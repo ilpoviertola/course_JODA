{
 "metadata": {
  "language_info": {
   "codemirror_mode": {
    "name": "ipython",
    "version": 3
   },
   "file_extension": ".py",
   "mimetype": "text/x-python",
   "name": "python",
   "nbconvert_exporter": "python",
   "pygments_lexer": "ipython3",
   "version": "3.7.10"
  },
  "orig_nbformat": 2,
  "kernelspec": {
   "name": "python3710jvsc74a57bd0a6d4ddde8f020d22769858c6343faf50cf54e29c922f4da84f6f66e8323f4169",
   "display_name": "Python 3.7.10 64-bit ('JODA': conda)"
  }
 },
 "nbformat": 4,
 "nbformat_minor": 2,
 "cells": [
  {
   "source": [
    "# Johdanto Datatieteeseen 2021 -practical work\n",
    "### *author: Ilpo Viertola*"
   ],
   "cell_type": "markdown",
   "metadata": {}
  },
  {
   "cell_type": "code",
   "execution_count": 2,
   "metadata": {},
   "outputs": [
    {
     "output_type": "stream",
     "name": "stderr",
     "text": [
      "[nltk_data] Downloading package stopwords to\n[nltk_data]     /Users/ilpoviertola/nltk_data...\n[nltk_data]   Package stopwords is already up-to-date!\n[nltk_data] Downloading package wordnet to\n[nltk_data]     /Users/ilpoviertola/nltk_data...\n[nltk_data]   Package wordnet is already up-to-date!\n"
     ]
    }
   ],
   "source": [
    "# Normal stuff\n",
    "import pandas as pd\n",
    "import numpy as np\n",
    "\n",
    "# For Twitter API\n",
    "import tweepy\n",
    "import ast\n",
    "\n",
    "# Tweet preprocessing\n",
    "import nltk\n",
    "nltk.download('stopwords')  # Download stopwords (not downloaded if up to date)\n",
    "nltk.download('wordnet')    # Download wordnet for lemmatizer (not downloaded if up to date)\n",
    "from nltk.corpus import stopwords\n",
    "from nltk.stem import WordNetLemmatizer\n",
    "import re\n",
    "import html\n",
    "import string"
   ]
  },
  {
   "source": [
    "## Reading the data\n",
    "**Read the data in from [Kaggle csv-files](https://www.kaggle.com/elvinagammed/covid19-fake-news-dataset-nlp) and with Twitter API.**"
   ],
   "cell_type": "markdown",
   "metadata": {}
  },
  {
   "cell_type": "code",
   "execution_count": 3,
   "metadata": {},
   "outputs": [
    {
     "output_type": "execute_result",
     "data": {
      "text/plain": [
       "   id                                              tweet label\n",
       "0   1  Chinese converting to Islam after realising th...  fake\n",
       "1   2  11 out of 13 people (from the Diamond Princess...  fake\n",
       "2   3  COVID-19 Is Caused By A Bacterium, Not Virus A...  fake\n",
       "3   4  Mike Pence in RNC speech praises Donald Trump’...  fake\n",
       "4   5  6/10 Sky's @EdConwaySky explains the latest #C...  real"
      ],
      "text/html": "<div>\n<style scoped>\n    .dataframe tbody tr th:only-of-type {\n        vertical-align: middle;\n    }\n\n    .dataframe tbody tr th {\n        vertical-align: top;\n    }\n\n    .dataframe thead th {\n        text-align: right;\n    }\n</style>\n<table border=\"1\" class=\"dataframe\">\n  <thead>\n    <tr style=\"text-align: right;\">\n      <th></th>\n      <th>id</th>\n      <th>tweet</th>\n      <th>label</th>\n    </tr>\n  </thead>\n  <tbody>\n    <tr>\n      <th>0</th>\n      <td>1</td>\n      <td>Chinese converting to Islam after realising th...</td>\n      <td>fake</td>\n    </tr>\n    <tr>\n      <th>1</th>\n      <td>2</td>\n      <td>11 out of 13 people (from the Diamond Princess...</td>\n      <td>fake</td>\n    </tr>\n    <tr>\n      <th>2</th>\n      <td>3</td>\n      <td>COVID-19 Is Caused By A Bacterium, Not Virus A...</td>\n      <td>fake</td>\n    </tr>\n    <tr>\n      <th>3</th>\n      <td>4</td>\n      <td>Mike Pence in RNC speech praises Donald Trump’...</td>\n      <td>fake</td>\n    </tr>\n    <tr>\n      <th>4</th>\n      <td>5</td>\n      <td>6/10 Sky's @EdConwaySky explains the latest #C...</td>\n      <td>real</td>\n    </tr>\n  </tbody>\n</table>\n</div>"
     },
     "metadata": {},
     "execution_count": 3
    }
   ],
   "source": [
    "csv_path = '/Users/ilpoviertola/OneDrive - TUNI.fi/Kurssimateriaaleja/JODA/datasets/covid19_fake_news'\n",
    "# Data to train the model with\n",
    "train_df = pd.read_csv(csv_path + '/Constraint_Train.csv')\n",
    "train_df.head()\n",
    "# Data to test the model with\n",
    "test_df = pd.read_csv(csv_path + '/Constraint_Test.csv')\n",
    "test_df.head()\n",
    "# Data to validate the model with\n",
    "val_df = pd.read_csv(csv_path + '/Constraint_Val.csv')\n",
    "val_df.head()"
   ]
  },
  {
   "source": [
    "**Next Twitter data. First lets authenticate ourselves so we can use Twitter API.**"
   ],
   "cell_type": "markdown",
   "metadata": {}
  },
  {
   "cell_type": "code",
   "execution_count": 4,
   "metadata": {},
   "outputs": [],
   "source": [
    "# Fetch Twitter API-keys from a local file.\n",
    "key_file = open('twitter.key', 'r')\n",
    "keys = ast.literal_eval(key_file.read())\n",
    "key_file.close()\n",
    "\n",
    "auth = tweepy.OAuthHandler(keys['API'], keys['API_secret'])\n",
    "auth.set_access_token(keys['Access_token'], keys['Access_token_secret'])\n",
    "api = tweepy.API(auth)"
   ]
  },
  {
   "source": [
    "**Create DataFrame where the tweets are stored and fetch tweets.**"
   ],
   "cell_type": "markdown",
   "metadata": {}
  },
  {
   "cell_type": "code",
   "execution_count": 5,
   "metadata": {},
   "outputs": [],
   "source": [
    "# Create DataFrame for tweets\n",
    "tweet_df = pd.DataFrame(columns=['username', 'description', 'location', 'following', 'followers', 'totaltweets', 'retweetcount', 'text', 'hashtags'])\n",
    "\n",
    "# Get tweets\n",
    "hashtag = '#covid19'\n",
    "d_since = '2021-04-07'\n",
    "limit = 250\n",
    "tweets = tweepy.Cursor(api.search, q=hashtag, lang='en', since=d_since, tweet_mode='extended').items(limit)\n",
    "tweets_list = [tweet for tweet in tweets]"
   ]
  },
  {
   "source": [
    "**Process tweets and add them to DataFrame. We'll exclude retweets.**"
   ],
   "cell_type": "markdown",
   "metadata": {}
  },
  {
   "cell_type": "code",
   "execution_count": 6,
   "metadata": {},
   "outputs": [
    {
     "output_type": "execute_result",
     "data": {
      "text/plain": [
       "          username                                        description  \\\n",
       "0   RWT_patientexp  Patient Experience Team @RWT_NHS. We provide a...   \n",
       "1     UMRio_ONERio  Through rugby and education UMRio [ONERio] pro...   \n",
       "2   MonicaPicc2021  Passionate about environmental, health and hum...   \n",
       "3       NST_Online  News, views and up-to-date reports from Malays...   \n",
       "4  AlasdairSampso1  Democrat: Scottish; cyclist: fly fisher: Covid...   \n",
       "\n",
       "                       location following followers totaltweets retweetcount  \\\n",
       "0                                     322       191         199            0   \n",
       "1  São Gonçalo, Rio de Janeiro        382       227         283            0   \n",
       "2                United Kingdom       261       136        1915            0   \n",
       "3                      Malaysia       428    742757      244729            0   \n",
       "4                  Scotland, EU       281       524       14664            1   \n",
       "\n",
       "                                                text  \\\n",
       "0  Last but not least we share the last of our @R...   \n",
       "1  #Brazil recorded its 2nd daily high in #COVID1...   \n",
       "2  New record: Brazil confirms 4,249 deaths by co...   \n",
       "3  #NSTnation Sarawak logged 555 new cases, the s...   \n",
       "4  #Sturgeon said there’ll be #COVID19 inquiry \\n...   \n",
       "\n",
       "                                            hashtags  \n",
       "0                  [volunteers, COVID19, compassion]  \n",
       "1                                  [Brazil, COVID19]  \n",
       "2                [Brazil, pandemic, Brasil, COVID19]  \n",
       "3  [NSTnation, Covid19, Infection, Rise, Pandemic...  \n",
       "4                                [Sturgeon, COVID19]  "
      ],
      "text/html": "<div>\n<style scoped>\n    .dataframe tbody tr th:only-of-type {\n        vertical-align: middle;\n    }\n\n    .dataframe tbody tr th {\n        vertical-align: top;\n    }\n\n    .dataframe thead th {\n        text-align: right;\n    }\n</style>\n<table border=\"1\" class=\"dataframe\">\n  <thead>\n    <tr style=\"text-align: right;\">\n      <th></th>\n      <th>username</th>\n      <th>description</th>\n      <th>location</th>\n      <th>following</th>\n      <th>followers</th>\n      <th>totaltweets</th>\n      <th>retweetcount</th>\n      <th>text</th>\n      <th>hashtags</th>\n    </tr>\n  </thead>\n  <tbody>\n    <tr>\n      <th>0</th>\n      <td>RWT_patientexp</td>\n      <td>Patient Experience Team @RWT_NHS. We provide a...</td>\n      <td></td>\n      <td>322</td>\n      <td>191</td>\n      <td>199</td>\n      <td>0</td>\n      <td>Last but not least we share the last of our @R...</td>\n      <td>[volunteers, COVID19, compassion]</td>\n    </tr>\n    <tr>\n      <th>1</th>\n      <td>UMRio_ONERio</td>\n      <td>Through rugby and education UMRio [ONERio] pro...</td>\n      <td>São Gonçalo, Rio de Janeiro</td>\n      <td>382</td>\n      <td>227</td>\n      <td>283</td>\n      <td>0</td>\n      <td>#Brazil recorded its 2nd daily high in #COVID1...</td>\n      <td>[Brazil, COVID19]</td>\n    </tr>\n    <tr>\n      <th>2</th>\n      <td>MonicaPicc2021</td>\n      <td>Passionate about environmental, health and hum...</td>\n      <td>United Kingdom</td>\n      <td>261</td>\n      <td>136</td>\n      <td>1915</td>\n      <td>0</td>\n      <td>New record: Brazil confirms 4,249 deaths by co...</td>\n      <td>[Brazil, pandemic, Brasil, COVID19]</td>\n    </tr>\n    <tr>\n      <th>3</th>\n      <td>NST_Online</td>\n      <td>News, views and up-to-date reports from Malays...</td>\n      <td>Malaysia</td>\n      <td>428</td>\n      <td>742757</td>\n      <td>244729</td>\n      <td>0</td>\n      <td>#NSTnation Sarawak logged 555 new cases, the s...</td>\n      <td>[NSTnation, Covid19, Infection, Rise, Pandemic...</td>\n    </tr>\n    <tr>\n      <th>4</th>\n      <td>AlasdairSampso1</td>\n      <td>Democrat: Scottish; cyclist: fly fisher: Covid...</td>\n      <td>Scotland, EU</td>\n      <td>281</td>\n      <td>524</td>\n      <td>14664</td>\n      <td>1</td>\n      <td>#Sturgeon said there’ll be #COVID19 inquiry \\n...</td>\n      <td>[Sturgeon, COVID19]</td>\n    </tr>\n  </tbody>\n</table>\n</div>"
     },
     "metadata": {},
     "execution_count": 6
    }
   ],
   "source": [
    "for tweet in tweets_list:\n",
    "    # Data about tweets\n",
    "    username = tweet.user.screen_name\n",
    "    description = tweet.user.description\n",
    "    location = tweet.user.location\n",
    "    following = tweet.user.friends_count\n",
    "    followers = tweet.user.followers_count\n",
    "    totaltweets = tweet.user.statuses_count\n",
    "    retweetcount = tweet.retweet_count\n",
    "    hashtags = tweet.entities['hashtags']\n",
    "    \n",
    "    # Let's ignore all retweets\n",
    "    if not tweet.retweeted and ('RT @' not in tweet.full_text):\n",
    "\n",
    "        text = tweet.full_text\n",
    "        hashtext = list()\n",
    "        for j in range(0, len(hashtags)):\n",
    "            hashtext.append(hashtags[j]['text'])\n",
    "            \n",
    "        # Lisätään data DataFrameen.\n",
    "        ith_tweet = [username, description, location, following, followers, totaltweets, \n",
    "                    retweetcount, text, hashtext]\n",
    "        tweet_df.loc[len(tweet_df)] = ith_tweet\n",
    "\n",
    "tweet_df.head()"
   ]
  },
  {
   "source": [
    "## Check for Null-values "
   ],
   "cell_type": "markdown",
   "metadata": {}
  },
  {
   "cell_type": "code",
   "execution_count": 7,
   "metadata": {},
   "outputs": [
    {
     "output_type": "stream",
     "name": "stdout",
     "text": [
      "Null values in training data? False\nNull values in testing data? False\nNull values in validation data? False\nNull values in Twitter data? False\n"
     ]
    }
   ],
   "source": [
    "print('Null values in training data? ' + str(train_df.isnull().values.any()))\n",
    "print('Null values in testing data? ' + str(test_df.isnull().values.any()))\n",
    "print('Null values in validation data? ' + str(val_df.isnull().values.any()))\n",
    "print('Null values in Twitter data? ' + str(tweet_df.isnull().values.any()))"
   ]
  },
  {
   "source": [
    "## Data exploration\n",
    "**Check column names**"
   ],
   "cell_type": "markdown",
   "metadata": {}
  },
  {
   "cell_type": "code",
   "execution_count": 8,
   "metadata": {},
   "outputs": [
    {
     "output_type": "stream",
     "name": "stdout",
     "text": [
      "Training & validation data's columns:\n['id' 'tweet' 'label']\n['id' 'tweet' 'label']\nTest data's columns:\n['id' 'tweet']\nTwitter data's columns:\n['username' 'description' 'location' 'following' 'followers' 'totaltweets'\n 'retweetcount' 'text' 'hashtags']\n"
     ]
    }
   ],
   "source": [
    "print('Training & validation data\\'s columns:')\n",
    "print(train_df.columns.values)\n",
    "print(val_df.columns.values)\n",
    "print('Test data\\'s columns:')\n",
    "print(test_df.columns.values)\n",
    "print('Twitter data\\'s columns:')\n",
    "print(tweet_df.columns.values)"
   ]
  },
  {
   "source": [
    "**Columns are ok. Next check datatypes**"
   ],
   "cell_type": "markdown",
   "metadata": {}
  },
  {
   "cell_type": "code",
   "execution_count": 9,
   "metadata": {},
   "outputs": [
    {
     "output_type": "stream",
     "name": "stdout",
     "text": [
      "Datatypes for training data: \nid        int64\ntweet    object\nlabel    object\ndtype: object\n\nDatatypes for validation data: \nid        int64\ntweet    object\nlabel    object\ndtype: object\n\nDatatypes for testing data: \nid        int64\ntweet    object\ndtype: object\n\nDatatypes for Twitter data: \nusername        object\ndescription     object\nlocation        object\nfollowing       object\nfollowers       object\ntotaltweets     object\nretweetcount    object\ntext            object\nhashtags        object\ndtype: object\n\n"
     ]
    }
   ],
   "source": [
    "print('Datatypes for training data: \\n' + str(train_df.dtypes) + '\\n')\n",
    "print('Datatypes for validation data: \\n' + str(val_df.dtypes) + '\\n')\n",
    "print('Datatypes for testing data: \\n' + str(test_df.dtypes) + '\\n')\n",
    "print('Datatypes for Twitter data: \\n' + str(tweet_df.dtypes) + '\\n')"
   ]
  },
  {
   "source": [
    "**Twitter dataset needs some datatype modifications.**"
   ],
   "cell_type": "markdown",
   "metadata": {}
  },
  {
   "cell_type": "code",
   "execution_count": 10,
   "metadata": {},
   "outputs": [
    {
     "output_type": "stream",
     "name": "stdout",
     "text": [
      "New datatypes for Twitter data: \nusername        object\ndescription     object\nlocation        object\nfollowing        int32\nfollowers        int32\ntotaltweets      int32\nretweetcount     int32\ntext            object\nhashtags        object\ndtype: object\n\n"
     ]
    }
   ],
   "source": [
    "tweet_df = tweet_df.astype({'following': 'int32', 'followers': 'int32', \n",
    "                            'totaltweets': 'int32', 'retweetcount': 'int32'})\n",
    "print('New datatypes for Twitter data: \\n' + str(tweet_df.dtypes) + '\\n')"
   ]
  },
  {
   "source": [
    "print('\\nExample tweet from training data: ')\n",
    "print(train_df['tweet'][5])\n",
    "print('\\nExample tweet from Twitter data: ')\n",
    "print(tweet_df['text'][5])"
   ],
   "cell_type": "code",
   "metadata": {},
   "execution_count": 11,
   "outputs": [
    {
     "output_type": "stream",
     "name": "stdout",
     "text": [
      "\nExample tweet from training data: \nCovid Act Now found \"on average each person in Illinois with COVID-19 is infecting 1.11 other people. Data shows that the infection growth rate has declined over time this factors in the stay-at-home order and other restrictions put in place.\" https://t.co/hhigDd24fE\n\nExample tweet from Twitter data: \n#Handwashing is one of the most essential ways to fight #COVID19 but 295 million children in sub-Saharan Africa do not have access to basic handwashing facilities in their schools.\n\nRead @UNICEF’s new report to explores how governments can address this.\nhttps://t.co/1haCuta7pV\n"
     ]
    }
   ]
  },
  {
   "source": [
    "**Tweets typically contain links, other people's usernames, hashtags and emojis. These must be cleaned before training the model...**"
   ],
   "cell_type": "markdown",
   "metadata": {}
  },
  {
   "cell_type": "code",
   "execution_count": 12,
   "metadata": {},
   "outputs": [
    {
     "output_type": "stream",
     "name": "stdout",
     "text": [
      "Training data labels: \n real    3360\nfake    3060\nName: label, dtype: int64\n\nValidation data labels: \n real    1120\nfake    1020\nName: label, dtype: int64\n"
     ]
    }
   ],
   "source": [
    "print('Training data labels: \\n', train_df['label'].value_counts())\n",
    "print('\\nValidation data labels: \\n', val_df['label'].value_counts())"
   ]
  },
  {
   "source": [
    "**Datasets are balanced, meaning they contain approximately as much fake and real news. These values must be binarycoded in the future.**  \n",
    "  \n",
    "## Tweet preprocessing aka. feature extraction"
   ],
   "cell_type": "markdown",
   "metadata": {}
  },
  {
   "cell_type": "code",
   "execution_count": 16,
   "metadata": {},
   "outputs": [
    {
     "output_type": "stream",
     "name": "stdout",
     "text": [
      "!\"#$%&'()*+,-./:;<=>?@[\\]^_`{|}~\n['i', 'me', 'my', 'myself', 'we', 'our', 'ours', 'ourselves', 'you', \"you're\", \"you've\", \"you'll\", \"you'd\", 'your', 'yours', 'yourself', 'yourselves', 'he', 'him', 'his', 'himself', 'she', \"she's\", 'her', 'hers', 'herself', 'it', \"it's\", 'its', 'itself', 'they', 'them', 'their', 'theirs', 'themselves', 'what', 'which', 'who', 'whom', 'this', 'that', \"that'll\", 'these', 'those', 'am', 'is', 'are', 'was', 'were', 'be', 'been', 'being', 'have', 'has', 'had', 'having', 'do', 'does', 'did', 'doing', 'a', 'an', 'the', 'and', 'but', 'if', 'or', 'because', 'as', 'until', 'while', 'of', 'at', 'by', 'for', 'with', 'about', 'against', 'between', 'into', 'through', 'during', 'before', 'after', 'above', 'below', 'to', 'from', 'up', 'down', 'in', 'out', 'on', 'off', 'over', 'under', 'again', 'further', 'then', 'once', 'here', 'there', 'when', 'where', 'why', 'how', 'all', 'any', 'both', 'each', 'few', 'more', 'most', 'other', 'some', 'such', 'no', 'nor', 'not', 'only', 'own', 'same', 'so', 'than', 'too', 'very', 's', 't', 'can', 'will', 'just', 'don', \"don't\", 'should', \"should've\", 'now', 'd', 'll', 'm', 'o', 're', 've', 'y', 'ain', 'aren', \"aren't\", 'couldn', \"couldn't\", 'didn', \"didn't\", 'doesn', \"doesn't\", 'hadn', \"hadn't\", 'hasn', \"hasn't\", 'haven', \"haven't\", 'isn', \"isn't\", 'ma', 'mightn', \"mightn't\", 'mustn', \"mustn't\", 'needn', \"needn't\", 'shan', \"shan't\", 'shouldn', \"shouldn't\", 'wasn', \"wasn't\", 'weren', \"weren't\", 'won', \"won't\", 'wouldn', \"wouldn't\"]\n"
     ]
    }
   ],
   "source": [
    "puncs = string.punctuation\n",
    "stopws = stopwords.words('english')\n",
    "print(punc)\n",
    "print(stopw)"
   ]
  },
  {
   "cell_type": "code",
   "execution_count": 28,
   "metadata": {},
   "outputs": [],
   "source": [
    "def tweet_cleaner(tweets):\n",
    "    for i in range(0, len(tweets)):\n",
    "        tweet = tweets[i]\n",
    "\n",
    "        emoji_pattern = re.compile(pattern = '['\n",
    "            u'\\U0001F600-\\U0001F64F'  # emoticons\n",
    "            u'\\U0001F300-\\U0001F5FF'  # symbols & pictographs\n",
    "            u'\\U0001F680-\\U0001F6FF'  # transport & map symbols\n",
    "            u'\\U0001F1E0-\\U0001F1FF'  # flags (iOS)\n",
    "                           ']+', flags = re.UNICODE)\n",
    "\n",
    "        tweet = html.unescape(tweet)    # Remove leftover HTML elements\n",
    "        tweet = re.sub(r'@\\w+', ' ', tweet) # Remove mentions to other people\n",
    "        tweet = re.sub(r'http\\S+', ' ', tweet)  # Remove links\n",
    "        tweet = emoji_pattern.sub(r'', tweet)   # Remove emojis\n",
    "        \n",
    "        tweet = ''.join([punc for punc in tweet if not punc in puncs])   # Remove punctuation\n",
    "        tweet = tweet.lower()   # Lowercase text\n",
    "    \n",
    "        tweetWord = tweet.split()   # Split to words\n",
    "\n",
    "        lemmatiser = WordNetLemmatizer()\n",
    "        tweetWord = [lemmatiser.lemmatize(word, pos='v') for word in tweetWord] # Lemmatize words\n",
    "\n",
    "        tweets[i] = ''.join([word + ' ' for word in tweetWord if not word in stopws]) # Exclude stopwords\n",
    "        \n",
    "    return tweets "
   ]
  },
  {
   "cell_type": "code",
   "execution_count": 20,
   "metadata": {},
   "outputs": [
    {
     "output_type": "execute_result",
     "data": {
      "text/plain": [
       "   id                                              tweet label  \\\n",
       "0   1  The CDC currently reports 99031 deaths. In gen...  real   \n",
       "1   2  States reported 1121 deaths a small rise from ...  real   \n",
       "2   3  Politically Correct Woman (Almost) Uses Pandem...  fake   \n",
       "3   4  #IndiaFightsCorona: We have 1524 #COVID testin...  real   \n",
       "4   5  Populous states can generate large case counts...  real   \n",
       "\n",
       "                                         clean_tweet  \n",
       "0  cdc currently report 99031 deaths general disc...  \n",
       "1  state report 1121 deaths small rise last tuesd...  \n",
       "2  politically correct woman almost use pandemic ...  \n",
       "3  indiafightscorona 1524 covid test laboratories...  \n",
       "4  populous state generate large case count look ...  "
      ],
      "text/html": "<div>\n<style scoped>\n    .dataframe tbody tr th:only-of-type {\n        vertical-align: middle;\n    }\n\n    .dataframe tbody tr th {\n        vertical-align: top;\n    }\n\n    .dataframe thead th {\n        text-align: right;\n    }\n</style>\n<table border=\"1\" class=\"dataframe\">\n  <thead>\n    <tr style=\"text-align: right;\">\n      <th></th>\n      <th>id</th>\n      <th>tweet</th>\n      <th>label</th>\n      <th>clean_tweet</th>\n    </tr>\n  </thead>\n  <tbody>\n    <tr>\n      <th>0</th>\n      <td>1</td>\n      <td>The CDC currently reports 99031 deaths. In gen...</td>\n      <td>real</td>\n      <td>cdc currently report 99031 deaths general disc...</td>\n    </tr>\n    <tr>\n      <th>1</th>\n      <td>2</td>\n      <td>States reported 1121 deaths a small rise from ...</td>\n      <td>real</td>\n      <td>state report 1121 deaths small rise last tuesd...</td>\n    </tr>\n    <tr>\n      <th>2</th>\n      <td>3</td>\n      <td>Politically Correct Woman (Almost) Uses Pandem...</td>\n      <td>fake</td>\n      <td>politically correct woman almost use pandemic ...</td>\n    </tr>\n    <tr>\n      <th>3</th>\n      <td>4</td>\n      <td>#IndiaFightsCorona: We have 1524 #COVID testin...</td>\n      <td>real</td>\n      <td>indiafightscorona 1524 covid test laboratories...</td>\n    </tr>\n    <tr>\n      <th>4</th>\n      <td>5</td>\n      <td>Populous states can generate large case counts...</td>\n      <td>real</td>\n      <td>populous state generate large case count look ...</td>\n    </tr>\n  </tbody>\n</table>\n</div>"
     },
     "metadata": {},
     "execution_count": 20
    }
   ],
   "source": [
    "train_df['clean_tweet'] = tweet_cleaner(train_df['tweet'].copy())\n",
    "train_df.head()"
   ]
  },
  {
   "cell_type": "code",
   "execution_count": 21,
   "metadata": {},
   "outputs": [
    {
     "output_type": "execute_result",
     "data": {
      "text/plain": [
       "   id                                              tweet  \\\n",
       "0   1  Our daily update is published. States reported...   \n",
       "1   2             Alfalfa is the only cure for COVID-19.   \n",
       "2   3  President Trump Asked What He Would Do If He W...   \n",
       "3   4  States reported 630 deaths. We are still seein...   \n",
       "4   5  This is the sixth time a global health emergen...   \n",
       "\n",
       "                                         clean_tweet  \n",
       "0  daily update publish state report 734k test 39...  \n",
       "1                              alfalfa cure covid19   \n",
       "2  president trump ask would catch coronavirus do...  \n",
       "3  state report 630 deaths still see solid nation...  \n",
       "4  sixth time global health emergency declare int...  "
      ],
      "text/html": "<div>\n<style scoped>\n    .dataframe tbody tr th:only-of-type {\n        vertical-align: middle;\n    }\n\n    .dataframe tbody tr th {\n        vertical-align: top;\n    }\n\n    .dataframe thead th {\n        text-align: right;\n    }\n</style>\n<table border=\"1\" class=\"dataframe\">\n  <thead>\n    <tr style=\"text-align: right;\">\n      <th></th>\n      <th>id</th>\n      <th>tweet</th>\n      <th>clean_tweet</th>\n    </tr>\n  </thead>\n  <tbody>\n    <tr>\n      <th>0</th>\n      <td>1</td>\n      <td>Our daily update is published. States reported...</td>\n      <td>daily update publish state report 734k test 39...</td>\n    </tr>\n    <tr>\n      <th>1</th>\n      <td>2</td>\n      <td>Alfalfa is the only cure for COVID-19.</td>\n      <td>alfalfa cure covid19</td>\n    </tr>\n    <tr>\n      <th>2</th>\n      <td>3</td>\n      <td>President Trump Asked What He Would Do If He W...</td>\n      <td>president trump ask would catch coronavirus do...</td>\n    </tr>\n    <tr>\n      <th>3</th>\n      <td>4</td>\n      <td>States reported 630 deaths. We are still seein...</td>\n      <td>state report 630 deaths still see solid nation...</td>\n    </tr>\n    <tr>\n      <th>4</th>\n      <td>5</td>\n      <td>This is the sixth time a global health emergen...</td>\n      <td>sixth time global health emergency declare int...</td>\n    </tr>\n  </tbody>\n</table>\n</div>"
     },
     "metadata": {},
     "execution_count": 21
    }
   ],
   "source": [
    "test_df['clean_tweet'] = tweet_cleaner(test_df['tweet'].copy())\n",
    "test_df.head()"
   ]
  },
  {
   "cell_type": "code",
   "execution_count": 22,
   "metadata": {},
   "outputs": [
    {
     "output_type": "execute_result",
     "data": {
      "text/plain": [
       "   id                                              tweet label  \\\n",
       "0   1  Chinese converting to Islam after realising th...  fake   \n",
       "1   2  11 out of 13 people (from the Diamond Princess...  fake   \n",
       "2   3  COVID-19 Is Caused By A Bacterium, Not Virus A...  fake   \n",
       "3   4  Mike Pence in RNC speech praises Donald Trump’...  fake   \n",
       "4   5  6/10 Sky's @EdConwaySky explains the latest #C...  real   \n",
       "\n",
       "                                         clean_tweet  \n",
       "0  chinese convert islam realise muslim affect co...  \n",
       "1  11 13 people diamond princess cruise ship inti...  \n",
       "2       covid19 cause bacterium virus treat aspirin   \n",
       "3  mike pence rnc speech praise donald trump’s co...  \n",
       "4  610 sky explain latest covid19 data government...  "
      ],
      "text/html": "<div>\n<style scoped>\n    .dataframe tbody tr th:only-of-type {\n        vertical-align: middle;\n    }\n\n    .dataframe tbody tr th {\n        vertical-align: top;\n    }\n\n    .dataframe thead th {\n        text-align: right;\n    }\n</style>\n<table border=\"1\" class=\"dataframe\">\n  <thead>\n    <tr style=\"text-align: right;\">\n      <th></th>\n      <th>id</th>\n      <th>tweet</th>\n      <th>label</th>\n      <th>clean_tweet</th>\n    </tr>\n  </thead>\n  <tbody>\n    <tr>\n      <th>0</th>\n      <td>1</td>\n      <td>Chinese converting to Islam after realising th...</td>\n      <td>fake</td>\n      <td>chinese convert islam realise muslim affect co...</td>\n    </tr>\n    <tr>\n      <th>1</th>\n      <td>2</td>\n      <td>11 out of 13 people (from the Diamond Princess...</td>\n      <td>fake</td>\n      <td>11 13 people diamond princess cruise ship inti...</td>\n    </tr>\n    <tr>\n      <th>2</th>\n      <td>3</td>\n      <td>COVID-19 Is Caused By A Bacterium, Not Virus A...</td>\n      <td>fake</td>\n      <td>covid19 cause bacterium virus treat aspirin</td>\n    </tr>\n    <tr>\n      <th>3</th>\n      <td>4</td>\n      <td>Mike Pence in RNC speech praises Donald Trump’...</td>\n      <td>fake</td>\n      <td>mike pence rnc speech praise donald trump’s co...</td>\n    </tr>\n    <tr>\n      <th>4</th>\n      <td>5</td>\n      <td>6/10 Sky's @EdConwaySky explains the latest #C...</td>\n      <td>real</td>\n      <td>610 sky explain latest covid19 data government...</td>\n    </tr>\n  </tbody>\n</table>\n</div>"
     },
     "metadata": {},
     "execution_count": 22
    }
   ],
   "source": [
    "val_df['clean_tweet'] = tweet_cleaner(val_df['tweet'].copy())\n",
    "val_df.head()"
   ]
  },
  {
   "cell_type": "code",
   "execution_count": 25,
   "metadata": {},
   "outputs": [
    {
     "output_type": "execute_result",
     "data": {
      "text/plain": [
       "          username                                        description  \\\n",
       "0   RWT_patientexp  Patient Experience Team @RWT_NHS. We provide a...   \n",
       "1     UMRio_ONERio  Through rugby and education UMRio [ONERio] pro...   \n",
       "2   MonicaPicc2021  Passionate about environmental, health and hum...   \n",
       "3       NST_Online  News, views and up-to-date reports from Malays...   \n",
       "4  AlasdairSampso1  Democrat: Scottish; cyclist: fly fisher: Covid...   \n",
       "\n",
       "                       location  following  followers  totaltweets  \\\n",
       "0                                      322        191          199   \n",
       "1  São Gonçalo, Rio de Janeiro         382        227          283   \n",
       "2                United Kingdom        261        136         1915   \n",
       "3                      Malaysia        428     742757       244729   \n",
       "4                  Scotland, EU        281        524        14664   \n",
       "\n",
       "   retweetcount                                               text  \\\n",
       "0             0  Last but not least we share the last of our @R...   \n",
       "1             0  #Brazil recorded its 2nd daily high in #COVID1...   \n",
       "2             0  New record: Brazil confirms 4,249 deaths by co...   \n",
       "3             0  #NSTnation Sarawak logged 555 new cases, the s...   \n",
       "4             1  #Sturgeon said there’ll be #COVID19 inquiry \\n...   \n",
       "\n",
       "                                            hashtags  \\\n",
       "0                  [volunteers, COVID19, compassion]   \n",
       "1                                  [Brazil, COVID19]   \n",
       "2                [Brazil, pandemic, Brasil, COVID19]   \n",
       "3  [NSTnation, Covid19, Infection, Rise, Pandemic...   \n",
       "4                                [Sturgeon, COVID19]   \n",
       "\n",
       "                                         clean_tweet  \n",
       "0  last least share last volunteer stories featur...  \n",
       "1  brazil record 2nd daily high covid19 deaths 3 ...  \n",
       "2  new record brazil confirm 4249 deaths covid19 ...  \n",
       "3  nstnation sarawak log 555 new case state highe...  \n",
       "4  sturgeon say there’ll covid19 inquiry manipula...  "
      ],
      "text/html": "<div>\n<style scoped>\n    .dataframe tbody tr th:only-of-type {\n        vertical-align: middle;\n    }\n\n    .dataframe tbody tr th {\n        vertical-align: top;\n    }\n\n    .dataframe thead th {\n        text-align: right;\n    }\n</style>\n<table border=\"1\" class=\"dataframe\">\n  <thead>\n    <tr style=\"text-align: right;\">\n      <th></th>\n      <th>username</th>\n      <th>description</th>\n      <th>location</th>\n      <th>following</th>\n      <th>followers</th>\n      <th>totaltweets</th>\n      <th>retweetcount</th>\n      <th>text</th>\n      <th>hashtags</th>\n      <th>clean_tweet</th>\n    </tr>\n  </thead>\n  <tbody>\n    <tr>\n      <th>0</th>\n      <td>RWT_patientexp</td>\n      <td>Patient Experience Team @RWT_NHS. We provide a...</td>\n      <td></td>\n      <td>322</td>\n      <td>191</td>\n      <td>199</td>\n      <td>0</td>\n      <td>Last but not least we share the last of our @R...</td>\n      <td>[volunteers, COVID19, compassion]</td>\n      <td>last least share last volunteer stories featur...</td>\n    </tr>\n    <tr>\n      <th>1</th>\n      <td>UMRio_ONERio</td>\n      <td>Through rugby and education UMRio [ONERio] pro...</td>\n      <td>São Gonçalo, Rio de Janeiro</td>\n      <td>382</td>\n      <td>227</td>\n      <td>283</td>\n      <td>0</td>\n      <td>#Brazil recorded its 2nd daily high in #COVID1...</td>\n      <td>[Brazil, COVID19]</td>\n      <td>brazil record 2nd daily high covid19 deaths 3 ...</td>\n    </tr>\n    <tr>\n      <th>2</th>\n      <td>MonicaPicc2021</td>\n      <td>Passionate about environmental, health and hum...</td>\n      <td>United Kingdom</td>\n      <td>261</td>\n      <td>136</td>\n      <td>1915</td>\n      <td>0</td>\n      <td>New record: Brazil confirms 4,249 deaths by co...</td>\n      <td>[Brazil, pandemic, Brasil, COVID19]</td>\n      <td>new record brazil confirm 4249 deaths covid19 ...</td>\n    </tr>\n    <tr>\n      <th>3</th>\n      <td>NST_Online</td>\n      <td>News, views and up-to-date reports from Malays...</td>\n      <td>Malaysia</td>\n      <td>428</td>\n      <td>742757</td>\n      <td>244729</td>\n      <td>0</td>\n      <td>#NSTnation Sarawak logged 555 new cases, the s...</td>\n      <td>[NSTnation, Covid19, Infection, Rise, Pandemic...</td>\n      <td>nstnation sarawak log 555 new case state highe...</td>\n    </tr>\n    <tr>\n      <th>4</th>\n      <td>AlasdairSampso1</td>\n      <td>Democrat: Scottish; cyclist: fly fisher: Covid...</td>\n      <td>Scotland, EU</td>\n      <td>281</td>\n      <td>524</td>\n      <td>14664</td>\n      <td>1</td>\n      <td>#Sturgeon said there’ll be #COVID19 inquiry \\n...</td>\n      <td>[Sturgeon, COVID19]</td>\n      <td>sturgeon say there’ll covid19 inquiry manipula...</td>\n    </tr>\n  </tbody>\n</table>\n</div>"
     },
     "metadata": {},
     "execution_count": 25
    }
   ],
   "source": [
    "tweet_df['clean_tweet'] = tweet_cleaner(tweet_df['text'].copy())\n",
    "tweet_df.head()"
   ]
  },
  {
   "source": [
    "**Remove rows that have blank clean_tweets. (This could be the case if the tweet only contained e.g. a link)**"
   ],
   "cell_type": "markdown",
   "metadata": {}
  },
  {
   "cell_type": "code",
   "execution_count": 29,
   "metadata": {},
   "outputs": [],
   "source": [
    "train_df['clean_tweet'].replace('', np.nan, inplace=True)\n",
    "test_df['clean_tweet'].replace('', np.nan, inplace=True)\n",
    "val_df['clean_tweet'].replace('', np.nan, inplace=True)\n",
    "tweet_df['clean_tweet'].replace('', np.nan, inplace=True)\n",
    "\n",
    "train_df.dropna(subset=['clean_tweet'], inplace=True)\n",
    "test_df.dropna(subset=['clean_tweet'], inplace=True)\n",
    "val_df.dropna(subset=['clean_tweet'], inplace=True)\n",
    "tweet_df.dropna(subset=['clean_tweet'], inplace=True)"
   ]
  },
  {
   "source": [
    "**Compare \"dirty\" and \"clean\" tweet**"
   ],
   "cell_type": "markdown",
   "metadata": {}
  },
  {
   "cell_type": "code",
   "execution_count": 33,
   "metadata": {},
   "outputs": [
    {
     "output_type": "stream",
     "name": "stdout",
     "text": [
      "Some dirty tweet:\n Thirty-nine GPs and specialists have written to the BMJ calling for action on long COVID. https://t.co/4Y5kGv3pF3 https://t.co/jTc1OucOmw\n\nClean version:\n thirtynine gps specialists write bmj call action long covid \n"
     ]
    }
   ],
   "source": [
    "print('Some dirty tweet:\\n', train_df['tweet'][150])\n",
    "print('\\nClean version:\\n', train_df['clean_tweet'][150])"
   ]
  },
  {
   "source": [
    "**Binarycode label-colum values to is_real-column in train_df and val_df. 0 = fake, 1 = real**"
   ],
   "cell_type": "markdown",
   "metadata": {}
  },
  {
   "cell_type": "code",
   "execution_count": 32,
   "metadata": {},
   "outputs": [
    {
     "output_type": "execute_result",
     "data": {
      "text/plain": [
       "   id                                              tweet label  \\\n",
       "0   1  Chinese converting to Islam after realising th...  fake   \n",
       "1   2  11 out of 13 people (from the Diamond Princess...  fake   \n",
       "2   3  COVID-19 Is Caused By A Bacterium, Not Virus A...  fake   \n",
       "3   4  Mike Pence in RNC speech praises Donald Trump’...  fake   \n",
       "4   5  6/10 Sky's @EdConwaySky explains the latest #C...  real   \n",
       "\n",
       "                                         clean_tweet  is_real  \n",
       "0  chinese convert islam realise muslim affect co...        0  \n",
       "1  11 13 people diamond princess cruise ship inti...        0  \n",
       "2       covid19 cause bacterium virus treat aspirin         0  \n",
       "3  mike pence rnc speech praise donald trump’s co...        0  \n",
       "4  610 sky explain latest covid19 data government...        1  "
      ],
      "text/html": "<div>\n<style scoped>\n    .dataframe tbody tr th:only-of-type {\n        vertical-align: middle;\n    }\n\n    .dataframe tbody tr th {\n        vertical-align: top;\n    }\n\n    .dataframe thead th {\n        text-align: right;\n    }\n</style>\n<table border=\"1\" class=\"dataframe\">\n  <thead>\n    <tr style=\"text-align: right;\">\n      <th></th>\n      <th>id</th>\n      <th>tweet</th>\n      <th>label</th>\n      <th>clean_tweet</th>\n      <th>is_real</th>\n    </tr>\n  </thead>\n  <tbody>\n    <tr>\n      <th>0</th>\n      <td>1</td>\n      <td>Chinese converting to Islam after realising th...</td>\n      <td>fake</td>\n      <td>chinese convert islam realise muslim affect co...</td>\n      <td>0</td>\n    </tr>\n    <tr>\n      <th>1</th>\n      <td>2</td>\n      <td>11 out of 13 people (from the Diamond Princess...</td>\n      <td>fake</td>\n      <td>11 13 people diamond princess cruise ship inti...</td>\n      <td>0</td>\n    </tr>\n    <tr>\n      <th>2</th>\n      <td>3</td>\n      <td>COVID-19 Is Caused By A Bacterium, Not Virus A...</td>\n      <td>fake</td>\n      <td>covid19 cause bacterium virus treat aspirin</td>\n      <td>0</td>\n    </tr>\n    <tr>\n      <th>3</th>\n      <td>4</td>\n      <td>Mike Pence in RNC speech praises Donald Trump’...</td>\n      <td>fake</td>\n      <td>mike pence rnc speech praise donald trump’s co...</td>\n      <td>0</td>\n    </tr>\n    <tr>\n      <th>4</th>\n      <td>5</td>\n      <td>6/10 Sky's @EdConwaySky explains the latest #C...</td>\n      <td>real</td>\n      <td>610 sky explain latest covid19 data government...</td>\n      <td>1</td>\n    </tr>\n  </tbody>\n</table>\n</div>"
     },
     "metadata": {},
     "execution_count": 32
    }
   ],
   "source": [
    "train_df['is_real'] = pd.get_dummies(train_df['label'])['real']\n",
    "val_df['is_real'] = pd.get_dummies(val_df['label'])['real']\n",
    "val_df.head()"
   ]
  }
 ]
}